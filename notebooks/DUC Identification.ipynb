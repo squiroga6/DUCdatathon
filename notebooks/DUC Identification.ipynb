{
 "metadata": {
  "language_info": {
   "codemirror_mode": {
    "name": "ipython",
    "version": 3
   },
   "file_extension": ".py",
   "mimetype": "text/x-python",
   "name": "python",
   "nbconvert_exporter": "python",
   "pygments_lexer": "ipython3",
   "version": "3.8.5-final"
  },
  "orig_nbformat": 2,
  "kernelspec": {
   "name": "python_defaultSpec_1597512373615",
   "display_name": "Python 3.8.5 64-bit ('DUCdatathon': conda)"
  }
 },
 "nbformat": 4,
 "nbformat_minor": 2,
 "cells": [
  {
   "cell_type": "markdown",
   "metadata": {},
   "source": [
    "# DUC Classification"
   ]
  },
  {
   "cell_type": "code",
   "execution_count": 68,
   "metadata": {},
   "outputs": [],
   "source": [
    "# import libraries\n",
    "import pandas as pd\n",
    "import numpy as np\n",
    "import matplotlib.pyplot as plt\n",
    "import seaborn as sns"
   ]
  },
  {
   "cell_type": "code",
   "execution_count": 106,
   "metadata": {},
   "outputs": [],
   "source": [
    "# import well header data\n",
    "well_header = pd.read_csv(\"../data/WellHeader_Datathon.csv\")\n",
    "# well_header['RigReleaseDate'] = pd.to_datetime(well_header.RigReleaseDate)\n",
    "well_header[['RigReleaseDate','StatusDate']].apply(pd.to_datetime)\n",
    "# import well production\n",
    "well_prod = pd.read_csv(\"../data/WellProduction.csv\")\n",
    "well_prod['ProdPeriod'] = pd.to_datetime(well_prod.ProdPeriod)\n",
    "# import perf treatments\n",
    "well_perfs = pd.read_csv(\"../data/PerfTreatments.csv\")\n",
    "well_perfs['ActivityDate'] = pd.to_datetime(well_perfs.ActivityDate)"
   ]
  },
  {
   "cell_type": "markdown",
   "metadata": {},
   "source": [
    "### Explore Well Header"
   ]
  },
  {
   "cell_type": "code",
   "execution_count": 107,
   "metadata": {
    "tags": []
   },
   "outputs": [
    {
     "output_type": "stream",
     "name": "stdout",
     "text": "<class 'pandas.core.frame.DataFrame'>\nRangeIndex: 10437 entries, 0 to 10436\nData columns (total 89 columns):\n #   Column                     Non-Null Count  Dtype  \n---  ------                     --------------  -----  \n 0   EPAssetsId                 10437 non-null  int64  \n 1   Province                   10437 non-null  object \n 2   LicenceNumber              10437 non-null  object \n 3   UWI                        10437 non-null  object \n 4   CurrentOperator            10437 non-null  object \n 5   CurrentOperatorParent      10437 non-null  int64  \n 6   CurrentOperatorParentName  10437 non-null  object \n 7   Licensee                   10437 non-null  object \n 8   LicenseeParentCompany      10437 non-null  int64  \n 9   LicenseeParentCompanyName  10437 non-null  object \n 10  LicenceDate                10437 non-null  object \n 11  CurrentStatus              10437 non-null  object \n 12  CurrentStatusStandardised  10437 non-null  object \n 13  WellType                   10437 non-null  object \n 14  WellTypeStandardised       10437 non-null  object \n 15  ConfidentialReleaseDate    7477 non-null   object \n 16  AbandonDate                0 non-null      float64\n 17  SurfAbandonDate            0 non-null      float64\n 18  WellName                   10437 non-null  object \n 19  Formation                  10437 non-null  object \n 20  Field                      10437 non-null  object \n 21  Pool                       10437 non-null  object \n 22  SurveySystem               10437 non-null  object \n 23  Surf_Location              10437 non-null  object \n 24  Surf_Township              10437 non-null  object \n 25  Surf_Meridian              10437 non-null  object \n 26  Surf_Range                 10437 non-null  object \n 27  Surf_Section               10437 non-null  object \n 28  Surf_LSD                   10437 non-null  object \n 29  Surf_Longitude             10437 non-null  float64\n 30  Surf_Latitude              10437 non-null  float64\n 31  Surf_TownshipRange         10437 non-null  object \n 32  Surf_QuarterUnit           10437 non-null  object \n 33  Surf_Unit                  10437 non-null  object \n 34  Surf_Block                 10437 non-null  object \n 35  Surf_NTSMapSheet           10437 non-null  object \n 36  Surf_Series                10437 non-null  object \n 37  Surf_Area                  10437 non-null  object \n 38  Surf_Sheet                 10437 non-null  object \n 39  Surf_QuarterSection        10437 non-null  object \n 40  BH_Location                10437 non-null  object \n 41  BH_TownshipRange           10437 non-null  object \n 42  BH_QuarterUnit             10437 non-null  object \n 43  BH_Unit                    10437 non-null  object \n 44  BH_Block                   10437 non-null  object \n 45  BH_NTSMapSheet             10437 non-null  object \n 46  BH_Series                  10437 non-null  object \n 47  BH_Area                    10437 non-null  object \n 48  BH_Sheet                   10437 non-null  object \n 49  BH_QuarterSection          8697 non-null   object \n 50  BH_Longitude               8697 non-null   float64\n 51  BH_Latitude                8697 non-null   float64\n 52  BH_Township                10437 non-null  object \n 53  BH_Meridian                10437 non-null  object \n 54  BH_Range                   10437 non-null  object \n 55  BH_Section                 10437 non-null  object \n 56  BH_LSD                     10437 non-null  object \n 57  GroundElevation            10429 non-null  float64\n 58  KBElevation                10437 non-null  float64\n 59  TotalDepth                 10437 non-null  float64\n 60  LaheeClass                 10437 non-null  object \n 61  Confidential               10437 non-null  object \n 62  SurfaceOwner               10437 non-null  object \n 63  OSArea                     8697 non-null   object \n 64  OSDeposit                  8697 non-null   object \n 65  DrillingContractor         10405 non-null  object \n 66  SpudDate                   10437 non-null  object \n 67  FinalDrillDate             8697 non-null   object \n 68  RigReleaseDate             10437 non-null  object \n 69  DaysDrilling               10431 non-null  float64\n 70  DrillMetresPerDay          10437 non-null  float64\n 71  TVD                        6731 non-null   float64\n 72  WellProfile                10437 non-null  object \n 73  Country                    10437 non-null  object \n 74  RegulatoryAgency           10437 non-null  object \n 75  PSACAreaCode               10437 non-null  object \n 76  PSACAreaName               10437 non-null  object \n 77  ProjectedDepth             10045 non-null  float64\n 78  StatusDate                 10437 non-null  object \n 79  StatusSource               10437 non-null  object \n 80  UnitID                     965 non-null    object \n 81  UnitName                   965 non-null    object \n 82  UnitFlag                   8697 non-null   object \n 83  Municipality               4111 non-null   object \n 84  CompletionDate             5851 non-null   object \n 85  Agent                      10437 non-null  object \n 86  _Completed`Flag            10437 non-null  int64  \n 87  _Perf`Flag                 10437 non-null  int64  \n 88  Match                      10437 non-null  object \ndtypes: float64(13), int64(5), object(71)\nmemory usage: 7.1+ MB\n"
    }
   ],
   "source": [
    "well_header.info()"
   ]
  },
  {
   "cell_type": "code",
   "execution_count": 109,
   "metadata": {},
   "outputs": [
    {
     "output_type": "execute_result",
     "data": {
      "text/plain": "       EPAssetsId  Surf_Longitude  Surf_Latitude  WellProfile CurrentStatus  \\\n0         2587301     -117.529866      54.747632   Horizontal      Gas Lift   \n1         2593278     -117.527042      54.737446   Horizontal      Gas Lift   \n2         2579437     -117.559923      54.730864   Horizontal      Gas Lift   \n3         2591761     -117.560141      54.730703   Horizontal      Gas Lift   \n4         2587302     -117.561283      54.723339   Horizontal      Gas Lift   \n...           ...             ...            ...          ...           ...   \n10432     2619592     -111.199446      51.895432  Directional       Pumping   \n10433     2621490     -111.098455      51.959143  Directional       Pumping   \n10434     2614697     -114.367997      51.272852  Directional       Pumping   \n10435     2613170     -114.336463      51.257185  Directional       Pumping   \n10436     2613169     -114.336995      51.256761  Directional       Pumping   \n\n       StatusDate RigReleaseDate  \n0       2/28/2016     12/21/2015  \n1       9/23/2016      6/10/2016  \n2      11/24/2015      1/22/2015  \n3       2/17/2016      1/26/2016  \n4       2/21/2016      1/11/2016  \n...           ...            ...  \n10432   3/13/2019      2/11/2019  \n10433    9/7/2019      8/15/2019  \n10434  11/13/2018      9/10/2018  \n10435  10/29/2018      8/26/2018  \n10436  10/30/2018       8/7/2018  \n\n[10437 rows x 7 columns]",
      "text/html": "<div>\n<style scoped>\n    .dataframe tbody tr th:only-of-type {\n        vertical-align: middle;\n    }\n\n    .dataframe tbody tr th {\n        vertical-align: top;\n    }\n\n    .dataframe thead th {\n        text-align: right;\n    }\n</style>\n<table border=\"1\" class=\"dataframe\">\n  <thead>\n    <tr style=\"text-align: right;\">\n      <th></th>\n      <th>EPAssetsId</th>\n      <th>Surf_Longitude</th>\n      <th>Surf_Latitude</th>\n      <th>WellProfile</th>\n      <th>CurrentStatus</th>\n      <th>StatusDate</th>\n      <th>RigReleaseDate</th>\n    </tr>\n  </thead>\n  <tbody>\n    <tr>\n      <th>0</th>\n      <td>2587301</td>\n      <td>-117.529866</td>\n      <td>54.747632</td>\n      <td>Horizontal</td>\n      <td>Gas Lift</td>\n      <td>2/28/2016</td>\n      <td>12/21/2015</td>\n    </tr>\n    <tr>\n      <th>1</th>\n      <td>2593278</td>\n      <td>-117.527042</td>\n      <td>54.737446</td>\n      <td>Horizontal</td>\n      <td>Gas Lift</td>\n      <td>9/23/2016</td>\n      <td>6/10/2016</td>\n    </tr>\n    <tr>\n      <th>2</th>\n      <td>2579437</td>\n      <td>-117.559923</td>\n      <td>54.730864</td>\n      <td>Horizontal</td>\n      <td>Gas Lift</td>\n      <td>11/24/2015</td>\n      <td>1/22/2015</td>\n    </tr>\n    <tr>\n      <th>3</th>\n      <td>2591761</td>\n      <td>-117.560141</td>\n      <td>54.730703</td>\n      <td>Horizontal</td>\n      <td>Gas Lift</td>\n      <td>2/17/2016</td>\n      <td>1/26/2016</td>\n    </tr>\n    <tr>\n      <th>4</th>\n      <td>2587302</td>\n      <td>-117.561283</td>\n      <td>54.723339</td>\n      <td>Horizontal</td>\n      <td>Gas Lift</td>\n      <td>2/21/2016</td>\n      <td>1/11/2016</td>\n    </tr>\n    <tr>\n      <th>...</th>\n      <td>...</td>\n      <td>...</td>\n      <td>...</td>\n      <td>...</td>\n      <td>...</td>\n      <td>...</td>\n      <td>...</td>\n    </tr>\n    <tr>\n      <th>10432</th>\n      <td>2619592</td>\n      <td>-111.199446</td>\n      <td>51.895432</td>\n      <td>Directional</td>\n      <td>Pumping</td>\n      <td>3/13/2019</td>\n      <td>2/11/2019</td>\n    </tr>\n    <tr>\n      <th>10433</th>\n      <td>2621490</td>\n      <td>-111.098455</td>\n      <td>51.959143</td>\n      <td>Directional</td>\n      <td>Pumping</td>\n      <td>9/7/2019</td>\n      <td>8/15/2019</td>\n    </tr>\n    <tr>\n      <th>10434</th>\n      <td>2614697</td>\n      <td>-114.367997</td>\n      <td>51.272852</td>\n      <td>Directional</td>\n      <td>Pumping</td>\n      <td>11/13/2018</td>\n      <td>9/10/2018</td>\n    </tr>\n    <tr>\n      <th>10435</th>\n      <td>2613170</td>\n      <td>-114.336463</td>\n      <td>51.257185</td>\n      <td>Directional</td>\n      <td>Pumping</td>\n      <td>10/29/2018</td>\n      <td>8/26/2018</td>\n    </tr>\n    <tr>\n      <th>10436</th>\n      <td>2613169</td>\n      <td>-114.336995</td>\n      <td>51.256761</td>\n      <td>Directional</td>\n      <td>Pumping</td>\n      <td>10/30/2018</td>\n      <td>8/7/2018</td>\n    </tr>\n  </tbody>\n</table>\n<p>10437 rows × 7 columns</p>\n</div>"
     },
     "metadata": {},
     "execution_count": 109
    }
   ],
   "source": [
    "# remove un-necesary columns\n",
    "well_header_clean = well_header[[\n",
    "                'EPAssetsId',\n",
    "                # 'CurrentOperator',\n",
    "                # 'CurrentStatus',\n",
    "                # 'Licensee',\n",
    "                # 'DrillingContractor',\n",
    "                'Surf_Longitude','Surf_Latitude',\n",
    "                'WellProfile',\n",
    "                'CurrentStatus',\n",
    "                'StatusDate',\n",
    "                'RigReleaseDate',\n",
    "                ]]\n",
    "\n",
    "well_header_clean"
   ]
  },
  {
   "cell_type": "code",
   "execution_count": 88,
   "metadata": {},
   "outputs": [
    {
     "output_type": "execute_result",
     "data": {
      "text/plain": "Active       5818\nPumping      2943\nFlowing      1446\nGas Lift      157\nSuspended      73\nName: CurrentStatus, dtype: int64"
     },
     "metadata": {},
     "execution_count": 88
    }
   ],
   "source": [
    "well_header_clean.CurrentStatus.value_counts()"
   ]
  },
  {
   "cell_type": "markdown",
   "metadata": {},
   "source": [
    "### Explore Production"
   ]
  },
  {
   "cell_type": "code",
   "execution_count": 15,
   "metadata": {},
   "outputs": [
    {
     "output_type": "execute_result",
     "data": {
      "text/plain": "Production Hours                279435\nGas Production (MMcf)           279091\nOil Production (Bbls)           196902\nWater Production (Bbls)         166025\nCondensate Production (Bbls)     39601\nName: ProdType, dtype: int64"
     },
     "metadata": {},
     "execution_count": 15
    }
   ],
   "source": [
    "well_prod.ProdType.value_counts()"
   ]
  },
  {
   "cell_type": "code",
   "execution_count": 16,
   "metadata": {},
   "outputs": [
    {
     "output_type": "execute_result",
     "data": {
      "text/plain": "(961054, 5)"
     },
     "metadata": {},
     "execution_count": 16
    }
   ],
   "source": [
    "well_prod.shape"
   ]
  },
  {
   "cell_type": "code",
   "execution_count": 17,
   "metadata": {},
   "outputs": [
    {
     "output_type": "execute_result",
     "data": {
      "text/plain": "   EPAssetsId ProdPeriod          ProdType  Volume WellHeader.Match\n0     1159612 2019-12-31  Production Hours   744.0              Yes\n1     1166272 2019-12-31  Production Hours   744.0              Yes\n2     1172352 2019-12-31  Production Hours   744.0              Yes\n3     1152904 2019-12-31  Production Hours   744.0              Yes\n4     1160926 2019-12-31  Production Hours   744.0              Yes",
      "text/html": "<div>\n<style scoped>\n    .dataframe tbody tr th:only-of-type {\n        vertical-align: middle;\n    }\n\n    .dataframe tbody tr th {\n        vertical-align: top;\n    }\n\n    .dataframe thead th {\n        text-align: right;\n    }\n</style>\n<table border=\"1\" class=\"dataframe\">\n  <thead>\n    <tr style=\"text-align: right;\">\n      <th></th>\n      <th>EPAssetsId</th>\n      <th>ProdPeriod</th>\n      <th>ProdType</th>\n      <th>Volume</th>\n      <th>WellHeader.Match</th>\n    </tr>\n  </thead>\n  <tbody>\n    <tr>\n      <th>0</th>\n      <td>1159612</td>\n      <td>2019-12-31</td>\n      <td>Production Hours</td>\n      <td>744.0</td>\n      <td>Yes</td>\n    </tr>\n    <tr>\n      <th>1</th>\n      <td>1166272</td>\n      <td>2019-12-31</td>\n      <td>Production Hours</td>\n      <td>744.0</td>\n      <td>Yes</td>\n    </tr>\n    <tr>\n      <th>2</th>\n      <td>1172352</td>\n      <td>2019-12-31</td>\n      <td>Production Hours</td>\n      <td>744.0</td>\n      <td>Yes</td>\n    </tr>\n    <tr>\n      <th>3</th>\n      <td>1152904</td>\n      <td>2019-12-31</td>\n      <td>Production Hours</td>\n      <td>744.0</td>\n      <td>Yes</td>\n    </tr>\n    <tr>\n      <th>4</th>\n      <td>1160926</td>\n      <td>2019-12-31</td>\n      <td>Production Hours</td>\n      <td>744.0</td>\n      <td>Yes</td>\n    </tr>\n  </tbody>\n</table>\n</div>"
     },
     "metadata": {},
     "execution_count": 17
    }
   ],
   "source": [
    "well_prod.head()"
   ]
  },
  {
   "cell_type": "code",
   "execution_count": 110,
   "metadata": {},
   "outputs": [],
   "source": [
    "well_prod_grouped = well_prod.groupby(['EPAssetsId','ProdType'],as_index=False).agg({'ProdPeriod':['first','max'],'Volume':'sum'})\n",
    "well_prod_grouped.columns = well_prod_grouped.columns.get_level_values(0)\n",
    "well_prod_grouped.columns = ['EPAssetsId','ProdType','ProdPeriod_first','ProdPeriod_last','ProdType_sum'] "
   ]
  },
  {
   "cell_type": "markdown",
   "metadata": {},
   "source": [
    "Get difference in time column:"
   ]
  },
  {
   "cell_type": "code",
   "execution_count": 111,
   "metadata": {},
   "outputs": [],
   "source": [
    "well_prod_grouped['ProdPeriod_Total'] = (well_prod_grouped['ProdPeriod_last'] - well_prod_grouped['ProdPeriod_first']).dt.days"
   ]
  },
  {
   "cell_type": "code",
   "execution_count": 112,
   "metadata": {},
   "outputs": [
    {
     "output_type": "execute_result",
     "data": {
      "text/plain": "       EPAssetsId                      ProdType ProdPeriod_first  \\\n0            3373  Condensate Production (Bbls)       2017-09-30   \n1            3373         Gas Production (MMcf)       2019-03-31   \n2            3373              Production Hours       2019-01-31   \n3            3373       Water Production (Bbls)       2017-09-30   \n4            6976  Condensate Production (Bbls)       2015-11-30   \n...           ...                           ...              ...   \n37721     2625202         Gas Production (MMcf)       2020-01-31   \n37722     2625202         Oil Production (Bbls)       2020-01-31   \n37723     2625908         Gas Production (MMcf)       2020-01-31   \n37724     2625908         Oil Production (Bbls)       2020-01-31   \n37725     2625908              Production Hours       2020-01-31   \n\n      ProdPeriod_last  ProdType_sum  ProdPeriod_Total  \n0          2019-12-31  48923.322360               822  \n1          2019-12-31   1627.348362               275  \n2          2019-12-31  17450.400000               334  \n3          2019-12-31  24642.178440               822  \n4          2019-12-31   4753.830840              1492  \n...               ...           ...               ...  \n37721      2020-01-31     87.216962                 0  \n37722      2020-01-31  14318.729700                 0  \n37723      2020-01-31      0.017657                 0  \n37724      2020-01-31   1430.300520                 0  \n37725      2020-01-31    148.000000                 0  \n\n[37726 rows x 6 columns]",
      "text/html": "<div>\n<style scoped>\n    .dataframe tbody tr th:only-of-type {\n        vertical-align: middle;\n    }\n\n    .dataframe tbody tr th {\n        vertical-align: top;\n    }\n\n    .dataframe thead th {\n        text-align: right;\n    }\n</style>\n<table border=\"1\" class=\"dataframe\">\n  <thead>\n    <tr style=\"text-align: right;\">\n      <th></th>\n      <th>EPAssetsId</th>\n      <th>ProdType</th>\n      <th>ProdPeriod_first</th>\n      <th>ProdPeriod_last</th>\n      <th>ProdType_sum</th>\n      <th>ProdPeriod_Total</th>\n    </tr>\n  </thead>\n  <tbody>\n    <tr>\n      <th>0</th>\n      <td>3373</td>\n      <td>Condensate Production (Bbls)</td>\n      <td>2017-09-30</td>\n      <td>2019-12-31</td>\n      <td>48923.322360</td>\n      <td>822</td>\n    </tr>\n    <tr>\n      <th>1</th>\n      <td>3373</td>\n      <td>Gas Production (MMcf)</td>\n      <td>2019-03-31</td>\n      <td>2019-12-31</td>\n      <td>1627.348362</td>\n      <td>275</td>\n    </tr>\n    <tr>\n      <th>2</th>\n      <td>3373</td>\n      <td>Production Hours</td>\n      <td>2019-01-31</td>\n      <td>2019-12-31</td>\n      <td>17450.400000</td>\n      <td>334</td>\n    </tr>\n    <tr>\n      <th>3</th>\n      <td>3373</td>\n      <td>Water Production (Bbls)</td>\n      <td>2017-09-30</td>\n      <td>2019-12-31</td>\n      <td>24642.178440</td>\n      <td>822</td>\n    </tr>\n    <tr>\n      <th>4</th>\n      <td>6976</td>\n      <td>Condensate Production (Bbls)</td>\n      <td>2015-11-30</td>\n      <td>2019-12-31</td>\n      <td>4753.830840</td>\n      <td>1492</td>\n    </tr>\n    <tr>\n      <th>...</th>\n      <td>...</td>\n      <td>...</td>\n      <td>...</td>\n      <td>...</td>\n      <td>...</td>\n      <td>...</td>\n    </tr>\n    <tr>\n      <th>37721</th>\n      <td>2625202</td>\n      <td>Gas Production (MMcf)</td>\n      <td>2020-01-31</td>\n      <td>2020-01-31</td>\n      <td>87.216962</td>\n      <td>0</td>\n    </tr>\n    <tr>\n      <th>37722</th>\n      <td>2625202</td>\n      <td>Oil Production (Bbls)</td>\n      <td>2020-01-31</td>\n      <td>2020-01-31</td>\n      <td>14318.729700</td>\n      <td>0</td>\n    </tr>\n    <tr>\n      <th>37723</th>\n      <td>2625908</td>\n      <td>Gas Production (MMcf)</td>\n      <td>2020-01-31</td>\n      <td>2020-01-31</td>\n      <td>0.017657</td>\n      <td>0</td>\n    </tr>\n    <tr>\n      <th>37724</th>\n      <td>2625908</td>\n      <td>Oil Production (Bbls)</td>\n      <td>2020-01-31</td>\n      <td>2020-01-31</td>\n      <td>1430.300520</td>\n      <td>0</td>\n    </tr>\n    <tr>\n      <th>37725</th>\n      <td>2625908</td>\n      <td>Production Hours</td>\n      <td>2020-01-31</td>\n      <td>2020-01-31</td>\n      <td>148.000000</td>\n      <td>0</td>\n    </tr>\n  </tbody>\n</table>\n<p>37726 rows × 6 columns</p>\n</div>"
     },
     "metadata": {},
     "execution_count": 112
    }
   ],
   "source": [
    "well_prod_grouped"
   ]
  },
  {
   "cell_type": "markdown",
   "metadata": {},
   "source": [
    "### Explore Well Perfs"
   ]
  },
  {
   "cell_type": "code",
   "execution_count": 77,
   "metadata": {},
   "outputs": [],
   "source": [
    "well_perfs = well_perfs[['EPAssetsId','ActivityDate','ActivityType']]"
   ]
  },
  {
   "cell_type": "code",
   "execution_count": 96,
   "metadata": {},
   "outputs": [
    {
     "output_type": "execute_result",
     "data": {
      "text/plain": "       EPAssetsId                   ActivityType ActivityDate_first\n0            3373                       Fracture         2017-07-29\n1            3373                    Perforation         2017-07-29\n2            6976                       Fracture         2015-10-30\n3            6976                    Perforation         2015-10-30\n4            6977                       Fracture         2015-10-31\n...           ...                            ...                ...\n15168     2624627           Multi-Stage Fracture         2020-01-30\n15169     2624628           Multi-Stage Fracture         2020-01-28\n15170     2624670           Multi-Stage Fracture         2020-01-19\n15171     2624670  Open Hole/Barefoot Completion         2020-01-10\n15172     2625908           Multi-Stage Fracture         2020-01-14\n\n[15173 rows x 3 columns]",
      "text/html": "<div>\n<style scoped>\n    .dataframe tbody tr th:only-of-type {\n        vertical-align: middle;\n    }\n\n    .dataframe tbody tr th {\n        vertical-align: top;\n    }\n\n    .dataframe thead th {\n        text-align: right;\n    }\n</style>\n<table border=\"1\" class=\"dataframe\">\n  <thead>\n    <tr style=\"text-align: right;\">\n      <th></th>\n      <th>EPAssetsId</th>\n      <th>ActivityType</th>\n      <th>ActivityDate_first</th>\n    </tr>\n  </thead>\n  <tbody>\n    <tr>\n      <th>0</th>\n      <td>3373</td>\n      <td>Fracture</td>\n      <td>2017-07-29</td>\n    </tr>\n    <tr>\n      <th>1</th>\n      <td>3373</td>\n      <td>Perforation</td>\n      <td>2017-07-29</td>\n    </tr>\n    <tr>\n      <th>2</th>\n      <td>6976</td>\n      <td>Fracture</td>\n      <td>2015-10-30</td>\n    </tr>\n    <tr>\n      <th>3</th>\n      <td>6976</td>\n      <td>Perforation</td>\n      <td>2015-10-30</td>\n    </tr>\n    <tr>\n      <th>4</th>\n      <td>6977</td>\n      <td>Fracture</td>\n      <td>2015-10-31</td>\n    </tr>\n    <tr>\n      <th>...</th>\n      <td>...</td>\n      <td>...</td>\n      <td>...</td>\n    </tr>\n    <tr>\n      <th>15168</th>\n      <td>2624627</td>\n      <td>Multi-Stage Fracture</td>\n      <td>2020-01-30</td>\n    </tr>\n    <tr>\n      <th>15169</th>\n      <td>2624628</td>\n      <td>Multi-Stage Fracture</td>\n      <td>2020-01-28</td>\n    </tr>\n    <tr>\n      <th>15170</th>\n      <td>2624670</td>\n      <td>Multi-Stage Fracture</td>\n      <td>2020-01-19</td>\n    </tr>\n    <tr>\n      <th>15171</th>\n      <td>2624670</td>\n      <td>Open Hole/Barefoot Completion</td>\n      <td>2020-01-10</td>\n    </tr>\n    <tr>\n      <th>15172</th>\n      <td>2625908</td>\n      <td>Multi-Stage Fracture</td>\n      <td>2020-01-14</td>\n    </tr>\n  </tbody>\n</table>\n<p>15173 rows × 3 columns</p>\n</div>"
     },
     "metadata": {},
     "execution_count": 96
    }
   ],
   "source": [
    "well_perfs_grouped = well_perfs.groupby(['EPAssetsId','ActivityType'],as_index=False).agg({'ActivityDate':['first']})\n",
    "well_perfs_grouped.columns = well_perfs_grouped.columns.get_level_values(0)\n",
    "well_perfs_grouped.columns = ['EPAssetsId','ActivityType','ActivityDate_first'] \n",
    "well_perfs_grouped"
   ]
  },
  {
   "cell_type": "markdown",
   "metadata": {},
   "source": [
    "### Merge all data"
   ]
  },
  {
   "cell_type": "code",
   "execution_count": null,
   "metadata": {},
   "outputs": [],
   "source": []
  }
 ]
}